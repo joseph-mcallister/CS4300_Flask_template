{
 "cells": [
  {
   "cell_type": "markdown",
   "metadata": {},
   "source": [
    "# data.world\n",
    "## politician tweets"
   ]
  },
  {
   "cell_type": "code",
   "execution_count": 1,
   "metadata": {},
   "outputs": [],
   "source": [
    "import datadotworld as dw\n",
    "import json"
   ]
  },
  {
   "cell_type": "code",
   "execution_count": 2,
   "metadata": {},
   "outputs": [],
   "source": [
    "results = dw.query('bkey/politician-tweets', \"SELECT pol_accounts.screen_name, pol_tweets.user_id, pol_tweets.tweet_text, pol_tweets.created_at, pol_accounts.location, pol_accounts.array_agg, pol_tweets.hashtag_entities FROM pol_tweets, pol_accounts WHERE pol_tweets.user_id = pol_accounts.id and pol_tweets.created_at >= CAST('2016-01-01' AS DATE)\")\n",
    "\n"
   ]
  },
  {
   "cell_type": "code",
   "execution_count": 3,
   "metadata": {},
   "outputs": [
    {
     "data": {
      "text/plain": [
       "{'fields': [{'name': u'screen_name', 'rdfType': None, 'type': 'string'},\n",
       "  {'name': u'user_id',\n",
       "   'rdfType': u'http://www.w3.org/2001/XMLSchema#integer',\n",
       "   'type': 'integer'},\n",
       "  {'name': u'tweet_text', 'rdfType': None, 'type': 'string'},\n",
       "  {'format': 'any',\n",
       "   'name': u'created_at',\n",
       "   'rdfType': u'http://www.w3.org/2001/XMLSchema#dateTime',\n",
       "   'type': 'datetime'},\n",
       "  {'name': u'location', 'rdfType': None, 'type': 'string'},\n",
       "  {'name': u'array_agg', 'rdfType': None, 'type': 'string'},\n",
       "  {'name': u'hashtag_entities', 'rdfType': None, 'type': 'string'}]}"
      ]
     },
     "execution_count": 3,
     "metadata": {},
     "output_type": "execute_result"
    }
   ],
   "source": [
    "results.describe()"
   ]
  },
  {
   "cell_type": "code",
   "execution_count": 4,
   "metadata": {},
   "outputs": [],
   "source": [
    "results_table = results.table"
   ]
  },
  {
   "cell_type": "code",
   "execution_count": 7,
   "metadata": {},
   "outputs": [],
   "source": [
    "def date_handler(obj):\n",
    "    if hasattr(obj, 'isoformat'):\n",
    "        return obj.isoformat()\n",
    "    else:\n",
    "        raise TypeError"
   ]
  },
  {
   "cell_type": "code",
   "execution_count": 8,
   "metadata": {},
   "outputs": [],
   "source": [
    "with open(\"tweet_data.json\",\"w\") as d:\n",
    "  json.dump(results_table, d, default=date_handler)"
   ]
  },
  {
   "cell_type": "code",
   "execution_count": 9,
   "metadata": {},
   "outputs": [
    {
     "data": {
      "text/plain": [
       "671562"
      ]
     },
     "execution_count": 9,
     "metadata": {},
     "output_type": "execute_result"
    }
   ],
   "source": [
    "len(results_table)"
   ]
  }
 ],
 "metadata": {
  "kernelspec": {
   "display_name": "fundy",
   "language": "python",
   "name": "fundy"
  },
  "language_info": {
   "codemirror_mode": {
    "name": "ipython",
    "version": 2
   },
   "file_extension": ".py",
   "mimetype": "text/x-python",
   "name": "python",
   "nbconvert_exporter": "python",
   "pygments_lexer": "ipython2",
   "version": "2.7.10"
  }
 },
 "nbformat": 4,
 "nbformat_minor": 2
}
