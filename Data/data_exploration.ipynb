{
 "cells": [
  {
   "cell_type": "code",
   "execution_count": 8,
   "metadata": {},
   "outputs": [],
   "source": [
    "import json\n",
    "import gzip\n",
    "from textblob import TextBlob\n",
    "import matplotlib.pylab as plt\n",
    "import numpy as np"
   ]
  },
  {
   "cell_type": "code",
   "execution_count": 16,
   "metadata": {},
   "outputs": [],
   "source": [
    "with gzip.GzipFile(\"tweet_data_zip\", 'r') as data_in:\n",
    "    data_bytes = data_in.read()\n",
    "\n",
    "data_str = data_bytes.decode('utf-8')\n",
    "tweet_data = json.loads(data_str)"
   ]
  },
  {
   "cell_type": "code",
   "execution_count": 10,
   "metadata": {},
   "outputs": [
    {
     "data": {
      "text/plain": [
       "{u'array_agg': u'{congressperson,Republican,republican}',\n",
       " u'created_at': u'2016-09-09T15:24:36',\n",
       " u'hashtag_entities': u'{NeverForget}',\n",
       " u'location': None,\n",
       " u'screen_name': u'RepStefanik',\n",
       " u'tweet_text': u'Joined my colleagues on the @uscapitol to pay tribute to the thousands of lives lost on 9/11 #NeverForget https://t.co/Rw8gpFGU0S',\n",
       " u'user_id': 2962813893}"
      ]
     },
     "execution_count": 10,
     "metadata": {},
     "output_type": "execute_result"
    }
   ],
   "source": [
    "tweet_data[0]"
   ]
  },
  {
   "cell_type": "code",
   "execution_count": 11,
   "metadata": {},
   "outputs": [],
   "source": [
    "king_tweets = []\n",
    "murray_tweets = []\n",
    "for tweet in tweet_data:\n",
    "    if tweet['screen_name'].lower() == 'stevekingia':\n",
    "        king_tweets.append(tweet)\n",
    "    if tweet['screen_name'].lower() == 'pattymurray':\n",
    "        murray_tweets.append(tweet)"
   ]
  },
  {
   "cell_type": "code",
   "execution_count": 12,
   "metadata": {},
   "outputs": [],
   "source": [
    "prolife_tweets_king = []\n",
    "prolife_tweets_murray = []\n",
    "for tweet in king_tweets:\n",
    "    if \" gun\" in tweet['tweet_text'].lower():\n",
    "        prolife_tweets_king.append(tweet)\n",
    "for tweet in murray_tweets:\n",
    "    if \" gun\" in tweet['tweet_text'].lower():\n",
    "        prolife_tweets_murray.append(tweet)"
   ]
  },
  {
   "cell_type": "code",
   "execution_count": 13,
   "metadata": {},
   "outputs": [],
   "source": [
    "prolife_polar_king = []\n",
    "prolife_subj_king = []\n",
    "prolife_polar_murray = []\n",
    "prolife_subj_murray = []\n",
    "for tweet in prolife_tweets_king:\n",
    "    txt = TextBlob(tweet['tweet_text'])\n",
    "    sent = txt.sentiment\n",
    "    prolife_polar_king.append(sent.polarity)\n",
    "    prolife_subj_king.append(sent.subjectivity)\n",
    "for tweet in prolife_tweets_murray:\n",
    "    txt = TextBlob(tweet['tweet_text'])\n",
    "    sent = txt.sentiment\n",
    "    prolife_polar_murray.append(sent.polarity)\n",
    "    prolife_subj_murray.append(sent.subjectivity)"
   ]
  },
  {
   "cell_type": "code",
   "execution_count": 14,
   "metadata": {},
   "outputs": [],
   "source": [
    "king_max_polar = np.argmax(np.array(prolife_polar_king))\n",
    "king_min_polar = np.argmin(np.array(prolife_polar_king))\n",
    "king_max_subj = np.argmax(np.array(prolife_subj_king))\n",
    "king_min_subj = np.argmin(np.array(prolife_subj_king))\n",
    "murray_max_polar = np.argmax(np.array(prolife_polar_king))\n",
    "murray_min_polar = np.argmin(np.array(prolife_polar_king))\n",
    "murray_max_subj = np.argmax(np.array(prolife_subj_king))\n",
    "murray_min_subj = np.argmin(np.array(prolife_subj_king))"
   ]
  },
  {
   "cell_type": "code",
   "execution_count": 15,
   "metadata": {},
   "outputs": [
    {
     "name": "stdout",
     "output_type": "stream",
     "text": [
      "King Tweets: \n",
      "\n",
      "Most Positive: How many might have been killed if Leftists had disarmed the good guy. Good guy with gun stops bad guy with gun. https://t.co/jegbAw4nWL\n",
      "\n",
      "Most Negative: I've had it with the gun grabbing Democrats and their sit in anti 2nd amendment jihad. I'm going to go home and buy a new gun.\n",
      "\n",
      "Most Subjective: Time to buy a new gun at the Iowa State Fair. Hard to do a background check for a 6 yr old. https://t.co/J9VeeR3zNS\n",
      "\n",
      "Least Subjective: I've had it with the gun grabbing Democrats and their sit in anti 2nd amendment jihad. I'm going to go home and buy a new gun.\n",
      "\n",
      "---\n",
      "Murray Tweets: \n",
      "\n",
      "Most Positive: Murray: We have a lot to do &amp; I'll be fighting to get back to work on #Zika funding, consideration for @SCOTUSnom &amp; addressing gun violence.\n",
      "\n",
      "Most Negative: Murray discusses gun control, #Zika, #SCOTUS, expanding access to paid sick leave - https://t.co/khWSDGE2Qi via @komonews\n",
      "\n",
      "Most Subjective: People across the country are asking Congress to take action &amp; to stop the scourge of gun violence. #filibuster #holdthefloor\n",
      "\n",
      "Least Subjective: Murray discusses gun control, #Zika, #SCOTUS, expanding access to paid sick leave - https://t.co/khWSDGE2Qi via @komonews\n",
      "\n"
     ]
    },
    {
     "data": {
      "image/png": "[encoded data removed]",
      "text/plain": [
       "<Figure size 432x288 with 1 Axes>"
      ]
     },
     "metadata": {},
     "output_type": "display_data"
    }
   ],
   "source": [
    "fig, ax = plt.subplots()\n",
    "ax.set(xlabel='Polarity', ylabel='Subjectivity')\n",
    "ax.scatter(prolife_polar_king, prolife_subj_king, color = \"red\")\n",
    "ax.scatter(prolife_polar_murray, prolife_subj_murray, color = \"blue\")\n",
    "\n",
    "print(\"King Tweets: \\n\")\n",
    "print(\"Most Positive: \" + prolife_tweets_king[king_max_polar]['tweet_text'] + '\\n')\n",
    "print(\"Most Negative: \" + prolife_tweets_king[king_min_polar]['tweet_text'] + '\\n')\n",
    "print(\"Most Subjective: \" + prolife_tweets_king[king_max_subj]['tweet_text'] + '\\n')\n",
    "print(\"Least Subjective: \" + prolife_tweets_king[king_min_subj]['tweet_text'] + '\\n')\n",
    "print(\"---\")\n",
    "print(\"Murray Tweets: \\n\")\n",
    "print(\"Most Positive: \" + prolife_tweets_murray[murray_max_polar]['tweet_text'] + '\\n')\n",
    "print(\"Most Negative: \" + prolife_tweets_murray[murray_min_polar]['tweet_text'] + '\\n')\n",
    "print(\"Most Subjective: \" + prolife_tweets_murray[murray_max_subj]['tweet_text'] + '\\n')\n",
    "print(\"Least Subjective: \" + prolife_tweets_murray[murray_min_subj]['tweet_text'] + '\\n')"
   ]
  },
  {
   "cell_type": "code",
   "execution_count": null,
   "metadata": {},
   "outputs": [],
   "source": []
  }
 ],
 "metadata": {
  "kernelspec": {
   "display_name": "fundy",
   "language": "python",
   "name": "fundy"
  },
  "language_info": {
   "codemirror_mode": {
    "name": "ipython",
    "version": 2
   },
   "file_extension": ".py",
   "mimetype": "text/x-python",
   "name": "python",
   "nbconvert_exporter": "python",
   "pygments_lexer": "ipython2",
   "version": "2.7.10"
  }
 },
 "nbformat": 4,
 "nbformat_minor": 2
}
