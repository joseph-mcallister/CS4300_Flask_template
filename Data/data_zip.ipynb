{
 "cells": [
  {
   "cell_type": "code",
   "execution_count": 1,
   "metadata": {},
   "outputs": [],
   "source": [
    "import json\n",
    "with open(\"tweet_data.json\",\"r\") as d:\n",
    "  tweet_data = json.load(d)"
   ]
  },
  {
   "cell_type": "code",
   "execution_count": 2,
   "metadata": {},
   "outputs": [
    {
     "data": {
      "text/plain": [
       "536272"
      ]
     },
     "execution_count": 2,
     "metadata": {},
     "output_type": "execute_result"
    }
   ],
   "source": [
    "tweet_data_refined = []\n",
    "for tweet in tweet_data:\n",
    "    if 'congressperson' in tweet['array_agg'] or 'senator' in tweet['array_agg']:\n",
    "        tweet_data_refined.append(tweet)\n",
    "len(tweet_data_refined)"
   ]
  },
  {
   "cell_type": "code",
   "execution_count": 3,
   "metadata": {},
   "outputs": [],
   "source": [
    "import gzip"
   ]
  },
  {
   "cell_type": "code",
   "execution_count": 4,
   "metadata": {},
   "outputs": [],
   "source": [
    "json_str = json.dumps(tweet_data_refined)\n",
    "json_bytes = json_str.encode('utf-8')\n",
    "with gzip.GzipFile(\"tweet_data_zip\", 'w') as fout:\n",
    "    fout.write(json_bytes)"
   ]
  },
  {
   "cell_type": "code",
   "execution_count": 9,
   "metadata": {},
   "outputs": [
    {
     "name": "stdout",
     "output_type": "stream",
     "text": [
      "536272\n"
     ]
    }
   ],
   "source": [
    "with gzip.GzipFile(\"tweet_data_zip\", 'r') as fin:\n",
    "    json_bytes2 = fin.read()\n",
    "\n",
    "json_str2 = json_bytes2.decode('utf-8')\n",
    "data = json.loads(json_str2)\n",
    "print(len(data))"
   ]
  },
  {
   "cell_type": "code",
   "execution_count": null,
   "metadata": {},
   "outputs": [],
   "source": []
  }
 ],
 "metadata": {
  "kernelspec": {
   "display_name": "fundy",
   "language": "python",
   "name": "fundy"
  },
  "language_info": {
   "codemirror_mode": {
    "name": "ipython",
    "version": 2
   },
   "file_extension": ".py",
   "mimetype": "text/x-python",
   "name": "python",
   "nbconvert_exporter": "python",
   "pygments_lexer": "ipython2",
   "version": "2.7.10"
  }
 },
 "nbformat": 4,
 "nbformat_minor": 2
}
